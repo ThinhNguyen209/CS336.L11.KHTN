{
  "nbformat": 4,
  "nbformat_minor": 0,
  "metadata": {
    "colab": {
      "name": "Lab7_Dev.ipynb",
      "provenance": [],
      "collapsed_sections": [],
      "toc_visible": true,
      "mount_file_id": "1VK3tqHQFSscJue6FJOF5wK-DeOeRrh3P",
      "authorship_tag": "ABX9TyPwOlVuhHxtM5bLsJ+j1ZEs",
      "include_colab_link": true
    },
    "kernelspec": {
      "name": "python3",
      "display_name": "Python 3"
    }
  },
  "cells": [
    {
      "cell_type": "markdown",
      "metadata": {
        "id": "view-in-github",
        "colab_type": "text"
      },
      "source": [
        "<a href=\"https://colab.research.google.com/github/ThinhNguyen209/CS336.L11.KHTN/blob/main/Lab7.ipynb\" target=\"_parent\"><img src=\"https://colab.research.google.com/assets/colab-badge.svg\" alt=\"Open In Colab\"/></a>"
      ]
    },
    {
      "cell_type": "markdown",
      "metadata": {
        "id": "o5lwEke3AEci"
      },
      "source": [
        "#BASELINE PHÂN LOẠI CHỦ ĐỀ"
      ]
    },
    {
      "cell_type": "markdown",
      "metadata": {
        "id": "GJL4NO8BAIt1"
      },
      "source": [
        "1. TIỀN XỬ LÍ\n",
        "  - TÁCH TỪ\n",
        "  - LOẠI BỎ STOPWORDS\n",
        "  - CHIA DATASET: \n",
        "    - TEST: CHỌN NGẪU NHIÊN Ở MỖI CLASS ĐỂ TẠO THÀNH 5000 MẪU TEST\n",
        "    - TRAIN: TỪ 15000 MẪU CÒN LẠI TRONG DATASET - CHỌN NGẪU NHIÊN Ở MỖI CLASS ĐỂ TẠO THÀNH 1000, 3000, 5000,...,15000 MẪU TRAIN   \n",
        "2. RÚT TRÍCH ĐẶC TRƯNG\n",
        "  - NAIVE BAYES\n",
        "  - TF-IDF\n",
        "3. TRAINING:\n",
        "  - MODEL NAIVE BAYES\n",
        "  - MODEL KNN\n",
        "4. TESTING\n",
        "5. VẼ ĐỒ THỊ SO SÁNH ACCURACY GIỮA NAIVE BAYES VÀ KNN QUA TỪNG TẬP DỮ LIỆU TRAIN CÓ KÍCH THƯỚC TỪ 1000, 3000, 5000,...,15000"
      ]
    },
    {
      "cell_type": "code",
      "metadata": {
        "colab": {
          "base_uri": "https://localhost:8080/"
        },
        "id": "DLb8JrmEM7nz",
        "outputId": "e3df3848-5781-41e2-8280-bef1e82aab33"
      },
      "source": [
        "!pip install wordsegment"
      ],
      "execution_count": null,
      "outputs": [
        {
          "output_type": "stream",
          "text": [
            "Collecting wordsegment\n",
            "\u001b[?25l  Downloading https://files.pythonhosted.org/packages/cf/6c/e6f4734d6f7d28305f52ec81377d7ce7d1856b97b814278e9960183235ad/wordsegment-1.3.1-py2.py3-none-any.whl (4.8MB)\n",
            "\u001b[K     |████████████████████████████████| 4.8MB 5.7MB/s \n",
            "\u001b[?25hInstalling collected packages: wordsegment\n",
            "Successfully installed wordsegment-1.3.1\n"
          ],
          "name": "stdout"
        }
      ]
    },
    {
      "cell_type": "code",
      "metadata": {
        "colab": {
          "base_uri": "https://localhost:8080/"
        },
        "id": "3m_1WPrjiWyT",
        "outputId": "9888ae5f-64ca-4401-b812-3d8acabd5f87"
      },
      "source": [
        "import numpy as np\n",
        "import glob\n",
        "import os\n",
        "import random\n",
        "from random import sample\n",
        "\n",
        "#SỬ DỤNG TOOL TÁCH TỪ \n",
        "from wordsegment import load, segment\n",
        "load()\n",
        "\n",
        "#SỬ DỤNG TỪ ĐIỂN STOPWORDS\n",
        "import nltk\n",
        "nltk.download('stopwords')\n",
        "from nltk.corpus import stopwords\n",
        "stopwords.words('english')\n",
        "\n",
        "\n",
        "\n",
        "from sklearn.naive_bayes import MultinomialNB\n",
        "from sklearn.neighbors import KNeighborsClassifier\n",
        "from sklearn.metrics import accuracy_score, f1_score\n",
        "\n",
        "from sklearn.externals import joblib\n",
        "\n",
        "import matplotlib.pyplot as plt\n",
        "%matplotlib inline"
      ],
      "execution_count": null,
      "outputs": [
        {
          "output_type": "stream",
          "text": [
            "[nltk_data] Downloading package stopwords to /root/nltk_data...\n",
            "[nltk_data]   Unzipping corpora/stopwords.zip.\n"
          ],
          "name": "stdout"
        },
        {
          "output_type": "stream",
          "text": [
            "/usr/local/lib/python3.6/dist-packages/sklearn/externals/joblib/__init__.py:15: FutureWarning: sklearn.externals.joblib is deprecated in 0.21 and will be removed in 0.23. Please import this functionality directly from joblib, which can be installed with: pip install joblib. If this warning is raised when loading pickled models, you may need to re-serialize those models with scikit-learn 0.21+.\n",
            "  warnings.warn(msg, category=FutureWarning)\n"
          ],
          "name": "stderr"
        }
      ]
    },
    {
      "cell_type": "markdown",
      "metadata": {
        "id": "37aibxegDWLq"
      },
      "source": [
        "#CÁC HÀM THỰC HIỆN"
      ]
    },
    {
      "cell_type": "code",
      "metadata": {
        "id": "AEEuCg3DggpH"
      },
      "source": [
        "#In : List tokens\n",
        "#Out: List tokens after removing stopwords\n",
        "def removeStopwords(doc):\n",
        "  results = [word for word in doc if word not in stopwords.words()]\n",
        "  return results"
      ],
      "execution_count": null,
      "outputs": []
    },
    {
      "cell_type": "code",
      "metadata": {
        "id": "IjmEXlp8ejv1"
      },
      "source": [
        "# Title: Tien xu li\n",
        "# In: List path cua document\n",
        "# Out: List [document,label]\n",
        "def getListOfDocument (doc_paths):\n",
        "  doc_list = []\n",
        "  for doc_path in doc_paths:\n",
        "    label = doc_path.split('/')[-2]\n",
        "    file = open(doc_path, 'r',errors='ignore').read()\n",
        "    doc = segment(file)\n",
        "    doc = removeStopwords(doc)\n",
        "    doc_list.append([doc,label])\n",
        "  return doc_list"
      ],
      "execution_count": null,
      "outputs": []
    },
    {
      "cell_type": "code",
      "metadata": {
        "id": "jCJb0dNVRIEG"
      },
      "source": [
        "# In: List document [doc,label]\n",
        "# Out: Bag of Words (List)\n",
        "def getBagOfWords (doc_list): \n",
        "  bow = []\n",
        "  for doc,label in doc_list:\n",
        "    bow += doc\n",
        "  \n",
        "  return set(bow)\n",
        "  "
      ],
      "execution_count": null,
      "outputs": []
    },
    {
      "cell_type": "code",
      "metadata": {
        "id": "7yoljSnSc2Iy"
      },
      "source": [
        "# In: List Bag of Words, Train Dataset: [doc,label] \n",
        "# Out: Array NaiveBayes va Label cho moi document\n",
        "def getNaiveBayes (BagOfWords, DocumentList):\n",
        "  NaiveBayes_List = []\n",
        "  Labels = []\n",
        "  for doc,label in DocumentList:\n",
        "    wordfreq = [doc.count(word) for word in BagOfWords]\n",
        "    wordfreq = np.array(wordfreq)\n",
        "    NaiveBayes_List.append(wordfreq)\n",
        "    Labels.append(label)\n",
        "\n",
        "  return np.array(NaiveBayes_List), np.array(Labels)"
      ],
      "execution_count": null,
      "outputs": []
    },
    {
      "cell_type": "code",
      "metadata": {
        "id": "d0_f2-6VPRD7"
      },
      "source": [
        "# In: List Bag of Words, Train Dataset: [doc,label] \n",
        "# Out: Model Tf-idf, Array tf-idfs, Label cho moi document\n",
        "def getTf_Idfs (BagOfWords, DocumentList):\n",
        "  \n",
        "  Corpus = []\n",
        "  Labels = []\n",
        "  for doc, label in DocumentList:\n",
        "    Corpus += [' '.join(doc)]\n",
        "    Labels.append(label)\n",
        "\n",
        "  from sklearn.feature_extraction.text import TfidfVectorizer # Dùng model tạo đặc trưng tf-idf\n",
        "  Model_TfIdf = TfidfVectorizer(vocabulary=BagOfWords)\n",
        "  Tf_idfs = Model_TfIdf.fit_transform(Corpus)\n",
        "  Tf_idfs = Tf_idfs.todense()\n",
        "\n",
        "  return Model_TfIdf, np.array(Tf_idfs), np.array(Labels)"
      ],
      "execution_count": null,
      "outputs": []
    },
    {
      "cell_type": "code",
      "metadata": {
        "id": "Mdof4TtVur2a"
      },
      "source": [
        "# In: Model tf-idf, Test Dataset: [doc,label] \n",
        "# Out: Array tf-idfs va Label cho moi document\n",
        "def getTest_TfIdfs (Model_TfIdf, DocumentList):\n",
        "  \n",
        "  Corpus = []\n",
        "  Labels = []\n",
        "  for doc, label in DocumentList:\n",
        "    Corpus += [' '.join(doc)]\n",
        "    Labels.append(label)\n",
        "\n",
        "  Tf_idfs = Model_TfIdf.transform(Corpus)\n",
        "  Tf_idfs = Tf_idfs.todense()\n",
        "\n",
        "  return np.array(Tf_idfs), np.array(Labels)"
      ],
      "execution_count": null,
      "outputs": []
    },
    {
      "cell_type": "code",
      "metadata": {
        "id": "McSFpYWZjDEc"
      },
      "source": [
        "# In: Array NaiveBayes, Labels\n",
        "# Out: Model Naive Bayes\n",
        "def trainModelNB (NaiveBayes_List, Labels):\n",
        "  Model = MultinomialNB()\n",
        "  Model.fit(NaiveBayes_List, Labels)\n",
        "\n",
        "  return Model"
      ],
      "execution_count": null,
      "outputs": []
    },
    {
      "cell_type": "code",
      "metadata": {
        "id": "wUInu5Wf6BYU"
      },
      "source": [
        "# In: Array Tf_idfs, Labels\n",
        "# Out: Model KNN\n",
        "def trainModelKNN (Tf_idfs, Labels):\n",
        "  Model = KNeighborsClassifier()\n",
        "  Model.fit(Tf_idfs, Labels)\n",
        "\n",
        "  return Model"
      ],
      "execution_count": null,
      "outputs": []
    },
    {
      "cell_type": "code",
      "metadata": {
        "id": "pSGod7mtkpCG"
      },
      "source": [
        "# In: Model, Array Features(NaiveBayes hoặc Tf-Idfs), Array Labels\n",
        "# Out: Float - accuracy\n",
        "def testModel(Model, TestDataset, Labels):\n",
        "  Predicts = [Model.predict(np.array(test).reshape(1,-1)) for test in TestDataset] # Lưu ý array features cần reshape\n",
        "  Predicts = np.array(Predicts)\n",
        "  Labels = np.array(Labels)\n",
        "  Accuracy = accuracy_score(Labels, Predicts)\n",
        "  return Accuracy"
      ],
      "execution_count": null,
      "outputs": []
    },
    {
      "cell_type": "markdown",
      "metadata": {
        "id": "fRAxLyxwDTYS"
      },
      "source": [
        "#TIẾN HÀNH THỰC HIỆN"
      ]
    },
    {
      "cell_type": "code",
      "metadata": {
        "id": "bdvJAdWhnyjq"
      },
      "source": [
        "# Chia tập test, train chung chưa chia 1k -> 15k\n",
        "# In: danh sách các địa chỉ\n",
        "# Out: test, train - cả test và train đều là list các địa chỉ \n",
        "TrainDataset, TestDataset = [],[]\n",
        "for class_path in class_paths:\n",
        "  doc_paths = glob.glob(class_path + '/*')\n",
        "  random.shuffle(doc_paths)\n",
        "  test = doc_paths[:250]\n",
        "  train = doc_paths[250:]\n",
        "\n",
        "  TestDataset += test # do không chia nên kết các tập test lại\n",
        "  TrainDataset.append(train) # do chia nên chỉ append từng list(topic) chứa các link vào TrainDataset  "
      ],
      "execution_count": null,
      "outputs": []
    },
    {
      "cell_type": "code",
      "metadata": {
        "id": "ADH7X9j10cw9"
      },
      "source": [
        "# Tập train\n",
        "# Bien dia chi thanh [doc,label]\n",
        "TrainDataset = [getListOfDocument(train) for train in TrainDataset"
      ],
      "execution_count": null,
      "outputs": []
    },
    {
      "cell_type": "code",
      "metadata": {
        "id": "rPbIi58ktiW1"
      },
      "source": [
        "# Tập test\n",
        "TestDataset = getListOfDocument(TestDataset)"
      ],
      "execution_count": null,
      "outputs": []
    },
    {
      "cell_type": "code",
      "metadata": {
        "id": "g3nzZgj05niu"
      },
      "source": [
        "Accuracy_List = []\n",
        "for n0 in range(50,850,100): # Tiến hành chia traindataset 50,150,250,...750 -> 1000,3000,5000,...,15000\n",
        "  SubTrainDataset = []\n",
        "  for train in TrainDataset:\n",
        "    try:\n",
        "      Sample = sample(train,n0)\n",
        "    except:\n",
        "      Sample = sample(train,len(train)) # do có topic chỉ có 747 file\n",
        "\n",
        "    SubTrainDataset += Sample\n",
        "\n",
        "  BagOfWords = getBagOfWords(SubTrainDataset)\n",
        "  SubBagOfWords = sample(BagOfWords,int(len(BagOfWords)*0.1)) # set lại kích thước 10% bagofwords\n",
        "\n",
        "  NaiveBayes, Labels = getNaiveBayes(SubBagOfWords, SubTrainDataset)\n",
        "  ModelNB = trainModelNB(NaiveBayes, Labels)\n",
        "  joblib.dump(ModelNB, \"ModelNBdev{}.pkl\".format(n0*20))\n",
        "  Tests, Labels = getNaiveBayes(SubBagOfWords, TestDataset)\n",
        "  np.save(\"TestNB{}.npy\".format(n0*20),np.array(Tests))\n",
        "  np.save(\"LabelsNB{}.npy\".format(n0*20),np.array(Labels))\n",
        "  AccNB = testModel(ModelNB, Tests, Labels)\n",
        "  np.save(\"AccNB{}\".format(n0*20),np.array([AccNB]))\n",
        "\n",
        "  Model_TfIdfs, Tf_idfs, Labels = getTf_Idfs(SubBagOfWords, SubTrainDataset)\n",
        "  ModelKNN = trainModelKNN(Tf_idfs, Labels)\n",
        "  joblib.dump(ModelKNN, \"ModelKNNdev{}.pkl\".format(n0*20))\n",
        "  Tests, Labels = getTest_TfIdfs(Model_TfIdfs, TestDataset)\n",
        "  np.save(\"TestKNN{}.npy\".format(n0*20),np.array(Tests))\n",
        "  np.save(\"LabelsKNN{}.npy\".format(n0*20),np.array(Labels))\n",
        "  AccKNN = testModel(ModelKNN, Tests, Labels)\n",
        "  np.save(\"AccKNN{}\".format(n0*20),np.array([AccKNN]))\n",
        "\n",
        "  Accuracy_List.append([AccNB, AccKNN])\n",
        "  np.save(\"Acc{}\".format(n0*20), np.array(Accuracy_List))"
      ],
      "execution_count": null,
      "outputs": []
    },
    {
      "cell_type": "code",
      "metadata": {
        "id": "4gkpiUQYHDFt"
      },
      "source": [
        "a = np.load(\"/content/drive/MyDrive/AccKNN1000.npy\", allow_pickle=True).tolist()\n",
        "b = np.load(\"/content/drive/MyDrive/AccKNN3000.npy\", allow_pickle=True).tolist()"
      ],
      "execution_count": 22,
      "outputs": []
    },
    {
      "cell_type": "code",
      "metadata": {
        "id": "6GE_lKzKHOUt"
      },
      "source": [
        "AccNB = []\n",
        "AccKNN = []\n",
        "for n0 in range(1000,16000,2000):\n",
        "  AccNB += np.load(\"/content/drive/MyDrive/AccNB{}.npy\".format(n0), allow_pickle=True).tolist()\n",
        "  AccKNN += np.load(\"/content/drive/MyDrive/AccKNN{}.npy\".format(n0), allow_pickle=True).tolist()\n"
      ],
      "execution_count": 25,
      "outputs": []
    },
    {
      "cell_type": "markdown",
      "metadata": {
        "id": "9ngIRUaWIssa"
      },
      "source": [
        "#VẼ ĐỒ THỊ"
      ]
    },
    {
      "cell_type": "code",
      "metadata": {
        "colab": {
          "base_uri": "https://localhost:8080/",
          "height": 299
        },
        "id": "GoYV5VX5XrWE",
        "outputId": "f46da5c8-cd47-4854-930e-e17d566d43ba"
      },
      "source": [
        "Standards = [1000, 3000, 5000, 7000, 9000, 11000, 13000, 15000]\n",
        "plt.plot(Standards,AccNB, \"-ro\", label = \"Naive Bayes\")\n",
        "plt.plot(Standards,AccKNN, \"-bo\", label = \"K-Nearest Neighbors\")\n",
        "plt.legend(loc='best')\n",
        "plt.title(\"Naive Bayes VS K-Nearest Neighbors\")\n"
      ],
      "execution_count": 27,
      "outputs": [
        {
          "output_type": "execute_result",
          "data": {
            "text/plain": [
              "Text(0.5, 1.0, 'Naive Bayes VS K-Nearest Neighbors')"
            ]
          },
          "metadata": {
            "tags": []
          },
          "execution_count": 27
        },
        {
          "output_type": "display_data",
          "data": {
            "image/png": "[encoded data removed]",
            "text/plain": [
              "<Figure size 432x288 with 1 Axes>"
            ]
          },
          "metadata": {
            "tags": [],
            "needs_background": "light"
          }
        }
      ]
    },
    {
      "cell_type": "markdown",
      "metadata": {
        "id": "PUD8o5F8Iv76"
      },
      "source": [
        "Nhận xét: accuracy của Naive Bayes luôn cao hơn KNN"
      ]
    }
  ]
}